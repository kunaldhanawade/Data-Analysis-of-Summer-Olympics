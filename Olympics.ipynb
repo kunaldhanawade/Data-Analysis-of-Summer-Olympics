{
  "nbformat": 4,
  "nbformat_minor": 0,
  "metadata": {
    "kernelspec": {
      "display_name": "Python 2",
      "language": "python",
      "name": "python2"
    },
    "language_info": {
      "codemirror_mode": {
        "name": "ipython",
        "version": 2
      },
      "file_extension": ".py",
      "mimetype": "text/x-python",
      "name": "python",
      "nbconvert_exporter": "python",
      "pygments_lexer": "ipython2",
      "version": "2.7.16"
    },
    "colab": {
      "name": "Olympics.ipynb",
      "provenance": [],
      "collapsed_sections": [
        "DeDwg26woVk9",
        "El--rTO-oVlA",
        "YA675jOFoVlC",
        "uHmemSNhoVlD",
        "lGdup4CloVlF",
        "wdvw1ukroVlG",
        "ibyteHDXoVlG",
        "_1SlkUQsoVlH"
      ]
    }
  },
  "cells": [
    {
      "cell_type": "markdown",
      "metadata": {
        "id": "IxTsYh0goVk1"
      },
      "source": [
        "# Summer Olympics Data Analysis Assignment"
      ]
    },
    {
      "cell_type": "code",
      "metadata": {
        "colab": {
          "base_uri": "https://localhost:8080/",
          "height": 206
        },
        "id": "cxcSiqAFpIug",
        "outputId": "dd77b987-8df5-46cf-b04f-275e32f362f5"
      },
      "source": [
        "import pandas as pd\n",
        "df = pd.read_csv(\"summer.csv\")\n",
        "df.head()"
      ],
      "execution_count": 6,
      "outputs": [
        {
          "output_type": "execute_result",
          "data": {
            "text/plain": [
              "   Year    City     Sport Discipline             Athlete Country Gender  \\\n",
              "0  1896  Athens  Aquatics   Swimming       HAJOS, Alfred     HUN    Men   \n",
              "1  1896  Athens  Aquatics   Swimming    HERSCHMANN, Otto     AUT    Men   \n",
              "2  1896  Athens  Aquatics   Swimming   DRIVAS, Dimitrios     GRE    Men   \n",
              "3  1896  Athens  Aquatics   Swimming  MALOKINIS, Ioannis     GRE    Men   \n",
              "4  1896  Athens  Aquatics   Swimming  CHASAPIS, Spiridon     GRE    Men   \n",
              "\n",
              "                        Event   Medal  \n",
              "0              100M Freestyle    Gold  \n",
              "1              100M Freestyle  Silver  \n",
              "2  100M Freestyle For Sailors  Bronze  \n",
              "3  100M Freestyle For Sailors    Gold  \n",
              "4  100M Freestyle For Sailors  Silver  "
            ],
            "text/html": [
              "<div>\n",
              "<style scoped>\n",
              "    .dataframe tbody tr th:only-of-type {\n",
              "        vertical-align: middle;\n",
              "    }\n",
              "\n",
              "    .dataframe tbody tr th {\n",
              "        vertical-align: top;\n",
              "    }\n",
              "\n",
              "    .dataframe thead th {\n",
              "        text-align: right;\n",
              "    }\n",
              "</style>\n",
              "<table border=\"1\" class=\"dataframe\">\n",
              "  <thead>\n",
              "    <tr style=\"text-align: right;\">\n",
              "      <th></th>\n",
              "      <th>Year</th>\n",
              "      <th>City</th>\n",
              "      <th>Sport</th>\n",
              "      <th>Discipline</th>\n",
              "      <th>Athlete</th>\n",
              "      <th>Country</th>\n",
              "      <th>Gender</th>\n",
              "      <th>Event</th>\n",
              "      <th>Medal</th>\n",
              "    </tr>\n",
              "  </thead>\n",
              "  <tbody>\n",
              "    <tr>\n",
              "      <th>0</th>\n",
              "      <td>1896</td>\n",
              "      <td>Athens</td>\n",
              "      <td>Aquatics</td>\n",
              "      <td>Swimming</td>\n",
              "      <td>HAJOS, Alfred</td>\n",
              "      <td>HUN</td>\n",
              "      <td>Men</td>\n",
              "      <td>100M Freestyle</td>\n",
              "      <td>Gold</td>\n",
              "    </tr>\n",
              "    <tr>\n",
              "      <th>1</th>\n",
              "      <td>1896</td>\n",
              "      <td>Athens</td>\n",
              "      <td>Aquatics</td>\n",
              "      <td>Swimming</td>\n",
              "      <td>HERSCHMANN, Otto</td>\n",
              "      <td>AUT</td>\n",
              "      <td>Men</td>\n",
              "      <td>100M Freestyle</td>\n",
              "      <td>Silver</td>\n",
              "    </tr>\n",
              "    <tr>\n",
              "      <th>2</th>\n",
              "      <td>1896</td>\n",
              "      <td>Athens</td>\n",
              "      <td>Aquatics</td>\n",
              "      <td>Swimming</td>\n",
              "      <td>DRIVAS, Dimitrios</td>\n",
              "      <td>GRE</td>\n",
              "      <td>Men</td>\n",
              "      <td>100M Freestyle For Sailors</td>\n",
              "      <td>Bronze</td>\n",
              "    </tr>\n",
              "    <tr>\n",
              "      <th>3</th>\n",
              "      <td>1896</td>\n",
              "      <td>Athens</td>\n",
              "      <td>Aquatics</td>\n",
              "      <td>Swimming</td>\n",
              "      <td>MALOKINIS, Ioannis</td>\n",
              "      <td>GRE</td>\n",
              "      <td>Men</td>\n",
              "      <td>100M Freestyle For Sailors</td>\n",
              "      <td>Gold</td>\n",
              "    </tr>\n",
              "    <tr>\n",
              "      <th>4</th>\n",
              "      <td>1896</td>\n",
              "      <td>Athens</td>\n",
              "      <td>Aquatics</td>\n",
              "      <td>Swimming</td>\n",
              "      <td>CHASAPIS, Spiridon</td>\n",
              "      <td>GRE</td>\n",
              "      <td>Men</td>\n",
              "      <td>100M Freestyle For Sailors</td>\n",
              "      <td>Silver</td>\n",
              "    </tr>\n",
              "  </tbody>\n",
              "</table>\n",
              "</div>"
            ]
          },
          "metadata": {},
          "execution_count": 6
        }
      ]
    },
    {
      "cell_type": "markdown",
      "metadata": {
        "id": "DeDwg26woVk9"
      },
      "source": [
        "### 1. In how many cities Summer Olympics is held so far?"
      ]
    },
    {
      "cell_type": "code",
      "metadata": {
        "id": "VEHknpv1oVk_",
        "colab": {
          "base_uri": "https://localhost:8080/"
        },
        "outputId": "696c58cf-f410-420f-f0f5-3a2d3379aa8d"
      },
      "source": [
        "print(\"Summer Olympics has been held in {} cities so far.\".format(len(df['City'].unique())) )"
      ],
      "execution_count": 7,
      "outputs": [
        {
          "output_type": "stream",
          "name": "stdout",
          "text": [
            "Summer Olympics has been held in 22 cities so far.\n"
          ]
        }
      ]
    },
    {
      "cell_type": "markdown",
      "metadata": {
        "id": "El--rTO-oVlA"
      },
      "source": [
        "### 2. Which sport is having most number of Gold Medals so far? (Top 5)"
      ]
    },
    {
      "cell_type": "code",
      "metadata": {
        "id": "1FSVVDey0bHt"
      },
      "source": [
        "gold = df[df['Medal'] == 'Gold']\n",
        "\n",
        "data = []\n",
        "\n",
        "for sport in gold['Sport'].unique():\n",
        "  data.append([sport, len(gold[gold['Sport'] == sport])])\n",
        "\n",
        "data = pd.DataFrame(data, columns=['Sport', 'Frequency'])\n",
        "data = data.sort_values(by='Frequency', ascending = False)\n",
        "data =  data.head()"
      ],
      "execution_count": 10,
      "outputs": []
    },
    {
      "cell_type": "code",
      "metadata": {
        "colab": {
          "base_uri": "https://localhost:8080/"
        },
        "id": "JilUFqMIclHn",
        "outputId": "50a78354-06c1-4049-9a05-3c20e37f65ec"
      },
      "source": [
        "print('The top 5 sports having most number of Gold Medals are:')\n",
        "for i in data['Sport']:\n",
        "  print(i)"
      ],
      "execution_count": 11,
      "outputs": [
        {
          "output_type": "stream",
          "name": "stdout",
          "text": [
            "The top 5 sports having most number of Gold Medals are:\n",
            "Aquatics\n",
            "Athletics\n",
            "Rowing\n",
            "Gymnastics\n",
            "Fencing\n"
          ]
        }
      ]
    },
    {
      "cell_type": "code",
      "metadata": {
        "id": "oBAf5pKPoVlB",
        "colab": {
          "base_uri": "https://localhost:8080/",
          "height": 383
        },
        "outputId": "4f7acf80-711e-40ee-f3a7-804a307b48cc"
      },
      "source": [
        "print('The bar graph for the same is:\\n')\n",
        "\n",
        "data.plot(x='Sport', y='Frequency', kind='bar')"
      ],
      "execution_count": 12,
      "outputs": [
        {
          "output_type": "stream",
          "name": "stdout",
          "text": [
            "The bar graph for the same is:\n",
            "\n"
          ]
        },
        {
          "output_type": "execute_result",
          "data": {
            "text/plain": [
              "<matplotlib.axes._subplots.AxesSubplot at 0x7f898d4b6890>"
            ]
          },
          "metadata": {},
          "execution_count": 12
        },
        {
          "output_type": "display_data",
          "data": {
            "image/png": "[encoded data removed]",
            "text/plain": [
              "<Figure size 432x288 with 1 Axes>"
            ]
          },
          "metadata": {
            "needs_background": "light"
          }
        }
      ]
    },
    {
      "cell_type": "markdown",
      "metadata": {
        "id": "YA675jOFoVlC"
      },
      "source": [
        "### 3. Which sport is having most number of medals so far? (Top 5)"
      ]
    },
    {
      "cell_type": "code",
      "metadata": {
        "id": "rgIAQrY8oVlC"
      },
      "source": [
        "data = []\n",
        "\n",
        "for sport in df['Sport'].unique():\n",
        "  data.append([sport, len(df[df['Sport'] == sport])])\n",
        "\n",
        "data = pd.DataFrame(data, columns=['Sport', 'Medals'])\n",
        "data = data.sort_values(by='Medals', ascending = False)\n",
        "data =  data.head()"
      ],
      "execution_count": 15,
      "outputs": []
    },
    {
      "cell_type": "code",
      "metadata": {
        "colab": {
          "base_uri": "https://localhost:8080/"
        },
        "id": "6U-2RHaccvcg",
        "outputId": "1b987376-c96c-46a0-a2ed-2c8125516755"
      },
      "source": [
        "print('The top 5 sports having most number of Medals are:')\n",
        "for i in data['Sport']:\n",
        "  print(i)"
      ],
      "execution_count": 16,
      "outputs": [
        {
          "output_type": "stream",
          "name": "stdout",
          "text": [
            "The top 5 sports having most number of Medals are:\n",
            "Aquatics\n",
            "Athletics\n",
            "Rowing\n",
            "Gymnastics\n",
            "Fencing\n"
          ]
        }
      ]
    },
    {
      "cell_type": "code",
      "metadata": {
        "colab": {
          "base_uri": "https://localhost:8080/",
          "height": 383
        },
        "id": "XF-9XfqA-HD_",
        "outputId": "3e0a2e46-cea3-4337-8b19-8d22abbc34a6"
      },
      "source": [
        "print('The bar graph for the same is:\\n')\n",
        "\n",
        "data.plot(x='Sport', y='Medals', kind='bar')"
      ],
      "execution_count": 18,
      "outputs": [
        {
          "output_type": "stream",
          "name": "stdout",
          "text": [
            "The bar graph for the same is:\n",
            "\n"
          ]
        },
        {
          "output_type": "execute_result",
          "data": {
            "text/plain": [
              "<matplotlib.axes._subplots.AxesSubplot at 0x7f898b3e5150>"
            ]
          },
          "metadata": {},
          "execution_count": 18
        },
        {
          "output_type": "display_data",
          "data": {
            "image/png": "[encoded data removed]",
            "text/plain": [
              "<Figure size 432x288 with 1 Axes>"
            ]
          },
          "metadata": {
            "needs_background": "light"
          }
        }
      ]
    },
    {
      "cell_type": "markdown",
      "metadata": {
        "id": "uHmemSNhoVlD"
      },
      "source": [
        "### 4. Which player has won most number of medals? (Top 5)"
      ]
    },
    {
      "cell_type": "code",
      "metadata": {
        "id": "0-0uTE-ULBS7"
      },
      "source": [
        "data = []\n",
        "\n",
        "for player in df['Athlete'].unique():\n",
        "  data.append([player, len(df[df['Athlete'] == player])])\n",
        "\n",
        "data = pd.DataFrame(data, columns=['Player', 'Medals'])\n",
        "data = data.sort_values(by='Medals', ascending = False)\n",
        "data =  data.head()"
      ],
      "execution_count": 19,
      "outputs": []
    },
    {
      "cell_type": "code",
      "metadata": {
        "colab": {
          "base_uri": "https://localhost:8080/"
        },
        "id": "TCsKeaj7Q2Qc",
        "outputId": "75e3e72a-9876-4e41-c6cd-4c773962f622"
      },
      "source": [
        "print('The top 5 players who won most number of Medals are:')\n",
        "for i in data['Player']:\n",
        "  print(i)"
      ],
      "execution_count": 20,
      "outputs": [
        {
          "output_type": "stream",
          "name": "stdout",
          "text": [
            "The top 5 players who won most number of Medals are:\n",
            "PHELPS, Michael\n",
            "LATYNINA, Larisa\n",
            "ANDRIANOV, Nikolay\n",
            "ONO, Takashi\n",
            "MANGIAROTTI, Edoardo\n"
          ]
        }
      ]
    },
    {
      "cell_type": "code",
      "metadata": {
        "colab": {
          "base_uri": "https://localhost:8080/",
          "height": 442
        },
        "id": "Ym2xwEiwIakb",
        "outputId": "9242a4c4-102c-4e6a-b1a4-cff40df2b63b"
      },
      "source": [
        "print('The bar graph for the same is:\\n')\n",
        "\n",
        "data.plot(x='Player', y='Medals', kind='bar')"
      ],
      "execution_count": 21,
      "outputs": [
        {
          "output_type": "stream",
          "name": "stdout",
          "text": [
            "The bar graph for the same is:\n",
            "\n"
          ]
        },
        {
          "output_type": "execute_result",
          "data": {
            "text/plain": [
              "<matplotlib.axes._subplots.AxesSubplot at 0x7f898b406450>"
            ]
          },
          "metadata": {},
          "execution_count": 21
        },
        {
          "output_type": "display_data",
          "data": {
            "image/png": "[encoded data removed]",
            "text/plain": [
              "<Figure size 432x288 with 1 Axes>"
            ]
          },
          "metadata": {
            "needs_background": "light"
          }
        }
      ]
    },
    {
      "cell_type": "markdown",
      "metadata": {
        "id": "lGdup4CloVlF"
      },
      "source": [
        "### 5. Which player has won most number Gold Medals of medals? (Top 5)"
      ]
    },
    {
      "cell_type": "code",
      "metadata": {
        "id": "98VDLFLZoVlF"
      },
      "source": [
        "gold = df[df['Medal'] == 'Gold']\n",
        "\n",
        "data = []\n",
        "\n",
        "for player in gold['Athlete'].unique():\n",
        "  data.append([player, len(gold[gold['Athlete'] == player])])\n",
        "\n",
        "data = pd.DataFrame(data, columns=['Player', 'Medals'])\n",
        "data = data.sort_values(by='Medals', ascending = False)\n",
        "data =  data.head()"
      ],
      "execution_count": 22,
      "outputs": []
    },
    {
      "cell_type": "code",
      "metadata": {
        "colab": {
          "base_uri": "https://localhost:8080/"
        },
        "id": "WP0UlmX9qojz",
        "outputId": "0dbf2aa6-53fc-46c4-d3f4-8045fe91fa44"
      },
      "source": [
        "print('The top 5 players who won most number of Gold Medals are:')\n",
        "for i in data['Player']:\n",
        "  print(i)"
      ],
      "execution_count": 23,
      "outputs": [
        {
          "output_type": "stream",
          "name": "stdout",
          "text": [
            "The top 5 players who won most number of Gold Medals are:\n",
            "PHELPS, Michael\n",
            "SPITZ, Mark\n",
            "LATYNINA, Larisa\n",
            "LEWIS, Carl\n",
            "NURMI, Paavo\n"
          ]
        }
      ]
    },
    {
      "cell_type": "code",
      "metadata": {
        "colab": {
          "base_uri": "https://localhost:8080/",
          "height": 410
        },
        "id": "GinFHdRLrcng",
        "outputId": "9dd64b3f-a3be-4daf-bec0-c1116f2d6ea7"
      },
      "source": [
        "print('The bar graph for the same is:\\n')\n",
        "\n",
        "data.plot(x='Player', y='Medals', kind='bar')"
      ],
      "execution_count": 24,
      "outputs": [
        {
          "output_type": "stream",
          "name": "stdout",
          "text": [
            "The bar graph for the same is:\n",
            "\n"
          ]
        },
        {
          "output_type": "execute_result",
          "data": {
            "text/plain": [
              "<matplotlib.axes._subplots.AxesSubplot at 0x7f898b18d690>"
            ]
          },
          "metadata": {},
          "execution_count": 24
        },
        {
          "output_type": "display_data",
          "data": {
            "image/png": "[encoded data removed]",
            "text/plain": [
              "<Figure size 432x288 with 1 Axes>"
            ]
          },
          "metadata": {
            "needs_background": "light"
          }
        }
      ]
    },
    {
      "cell_type": "markdown",
      "metadata": {
        "id": "wdvw1ukroVlG"
      },
      "source": [
        "### 6. In which year India won first Gold Medal in Summer Olympics?"
      ]
    },
    {
      "cell_type": "code",
      "metadata": {
        "id": "OqZR96BNoVlG",
        "colab": {
          "base_uri": "https://localhost:8080/"
        },
        "outputId": "accdd88f-c098-4d4c-9b52-7cb8ea6ebbe3"
      },
      "source": [
        "India = df[df['Country'] == 'IND']\n",
        "gold = India[India['Medal'] == 'Gold']\n",
        "\n",
        "for year in gold.head(1)['Year']:\n",
        "  print(\"India won first gold in the year {}.\".format(year) )"
      ],
      "execution_count": 26,
      "outputs": [
        {
          "output_type": "stream",
          "name": "stdout",
          "text": [
            "India won first gold in the year 1928.\n"
          ]
        }
      ]
    },
    {
      "cell_type": "markdown",
      "metadata": {
        "id": "ibyteHDXoVlG"
      },
      "source": [
        "### 7. Which event is most popular in terms on number of players? (Top 5)"
      ]
    },
    {
      "cell_type": "code",
      "metadata": {
        "id": "4s4y98pkoVlH"
      },
      "source": [
        "data = []\n",
        "\n",
        "for event in df['Event'].unique():\n",
        "  data.append([event, len(df[df['Event'] == event])])\n",
        "\n",
        "data = pd.DataFrame(data, columns=['Event', 'Players'])\n",
        "data = data.sort_values(by='Players', ascending = False)\n",
        "data =  data.head()"
      ],
      "execution_count": 27,
      "outputs": []
    },
    {
      "cell_type": "code",
      "metadata": {
        "colab": {
          "base_uri": "https://localhost:8080/"
        },
        "id": "needDDfuv7e3",
        "outputId": "d727674a-6455-4679-b674-fa5046075b66"
      },
      "source": [
        "print('The top 5 events most popular in terms on number of players are:')\n",
        "for i in data['Event']:\n",
        "  print(i)"
      ],
      "execution_count": 28,
      "outputs": [
        {
          "output_type": "stream",
          "name": "stdout",
          "text": [
            "The top 5 events most popular in terms on number of players are:\n",
            "Football\n",
            "Hockey\n",
            "Team Competition\n",
            "Basketball\n",
            "Handball\n"
          ]
        }
      ]
    },
    {
      "cell_type": "code",
      "metadata": {
        "colab": {
          "base_uri": "https://localhost:8080/",
          "height": 417
        },
        "id": "pScDogfNypaf",
        "outputId": "0570412f-3b21-4afc-a176-6680c0c7ae2c"
      },
      "source": [
        "print('The bar graph for the same is:\\n')\n",
        "\n",
        "data.plot(x='Event', y='Players', kind='bar')"
      ],
      "execution_count": 29,
      "outputs": [
        {
          "output_type": "stream",
          "name": "stdout",
          "text": [
            "The bar graph for the same is:\n",
            "\n"
          ]
        },
        {
          "output_type": "execute_result",
          "data": {
            "text/plain": [
              "<matplotlib.axes._subplots.AxesSubplot at 0x7f898b302c50>"
            ]
          },
          "metadata": {},
          "execution_count": 29
        },
        {
          "output_type": "display_data",
          "data": {
            "image/png": "[encoded data removed]",
            "text/plain": [
              "<Figure size 432x288 with 1 Axes>"
            ]
          },
          "metadata": {
            "needs_background": "light"
          }
        }
      ]
    },
    {
      "cell_type": "markdown",
      "metadata": {
        "id": "_1SlkUQsoVlH"
      },
      "source": [
        "### 8. Which sport is having most female Gold Medalists? (Top 5)"
      ]
    },
    {
      "cell_type": "code",
      "metadata": {
        "id": "D1nzwQ8_oVlI"
      },
      "source": [
        "Female = df[df['Gender'] == 'Women']\n",
        "gold = Female[Female['Medal'] == 'Gold']\n",
        "\n",
        "data = []\n",
        "\n",
        "for sport in gold['Sport'].unique():\n",
        "  data.append([sport, len(gold[gold['Sport'] == sport])])\n",
        "\n",
        "data = pd.DataFrame(data, columns=['Sport', 'Players'])\n",
        "data = data.sort_values(by='Players', ascending = False)\n",
        "data =  data.head()"
      ],
      "execution_count": 30,
      "outputs": []
    },
    {
      "cell_type": "code",
      "metadata": {
        "colab": {
          "base_uri": "https://localhost:8080/"
        },
        "id": "SV6WM6a6yfv6",
        "outputId": "3f5a3b2b-d796-49e9-a4aa-102628c7141b"
      },
      "source": [
        "print('The top 5 sports having most female Gold Medalists are:')\n",
        "for i in data['Sport']:\n",
        "  print(i)"
      ],
      "execution_count": 31,
      "outputs": [
        {
          "output_type": "stream",
          "name": "stdout",
          "text": [
            "The top 5 sports having most female Gold Medalists are:\n",
            "Aquatics\n",
            "Athletics\n",
            "Gymnastics\n",
            "Rowing\n",
            "Volleyball\n"
          ]
        }
      ]
    },
    {
      "cell_type": "code",
      "metadata": {
        "colab": {
          "base_uri": "https://localhost:8080/",
          "height": 383
        },
        "id": "n9S0t0RnygAD",
        "outputId": "034a55f1-42be-44f5-fcbe-f350abbf1464"
      },
      "source": [
        "print('The bar graph for the same is:\\n')\n",
        "\n",
        "data.plot(x='Sport', y='Players', kind='bar')"
      ],
      "execution_count": 32,
      "outputs": [
        {
          "output_type": "stream",
          "name": "stdout",
          "text": [
            "The bar graph for the same is:\n",
            "\n"
          ]
        },
        {
          "output_type": "execute_result",
          "data": {
            "text/plain": [
              "<matplotlib.axes._subplots.AxesSubplot at 0x7f898b2efc50>"
            ]
          },
          "metadata": {},
          "execution_count": 32
        },
        {
          "output_type": "display_data",
          "data": {
            "image/png": "[encoded data removed]",
            "text/plain": [
              "<Figure size 432x288 with 1 Axes>"
            ]
          },
          "metadata": {
            "needs_background": "light"
          }
        }
      ]
    }
  ]
}